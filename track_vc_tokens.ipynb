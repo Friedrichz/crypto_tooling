{
  "cells": [
    {
      "cell_type": "markdown",
      "metadata": {
        "id": "view-in-github",
        "colab_type": "text"
      },
      "source": [
        "<a href=\"https://colab.research.google.com/github/Friedrichz/crypto_tooling/blob/main/track_vc_tokens.ipynb\" target=\"_parent\"><img src=\"https://colab.research.google.com/assets/colab-badge.svg\" alt=\"Open In Colab\"/></a>"
      ]
    },
    {
      "cell_type": "code",
      "execution_count": null,
      "metadata": {
        "id": "BRs8iI2cX2ZA"
      },
      "outputs": [],
      "source": [
        "!pip install messari"
      ]
    },
    {
      "cell_type": "code",
      "execution_count": 117,
      "metadata": {
        "id": "-XI2ylhUopaa"
      },
      "outputs": [],
      "source": [
        "from messari.messari import Messari\n",
        "import pandas as pd\n",
        "import numpy as np\n",
        "\n",
        "messari_api_key = \"88bbfa31-1b0c-442b-b748-cc13ed2cab1a\"\n",
        "messari = Messari(messari_api_key)"
      ]
    },
    {
      "cell_type": "code",
      "execution_count": 4,
      "metadata": {
        "id": "sJo-T8ACpbid"
      },
      "outputs": [],
      "source": [
        "# Fetch raw data\n",
        "li_dic = [] \n",
        "for i in range(1, 5, 1):\n",
        "    data = messari.get_all_assets(page=i, limit=500, to_dataframe=True)\n",
        "    li_dic.append(data)\n",
        "\n",
        "# Merge raw API data into one list with records \n",
        "data = [j for i in li_dic for j in i[\"data\"]]\n",
        "len(data)"
      ]
    },
    {
      "cell_type": "markdown",
      "source": [
        "# Cleanup records "
      ],
      "metadata": {
        "id": "IPfv-nFg7B0V"
      }
    },
    {
      "cell_type": "code",
      "source": [
        "def get_nested_items(list_records, attr): \n",
        "  if list_records is None:\n",
        "    return []\n",
        "  else: \n",
        "    return [i[attr] for i in list_records]\n",
        "\n",
        "def clean_sales_round_title(title): \n",
        "  if title is None: pass\n",
        "  else:\n",
        "    # Remove digits\n",
        "    title = ''.join([i for i in title if not i.isdigit()]) \n",
        "    # Lowercase & strip trailing/leading spaces\n",
        "    title = title.lower().strip()\n",
        "    return title\n",
        "\n",
        "def clean_sales_rounds(list_records): \n",
        "  if list_records is None:\n",
        "    pass\n",
        "  else:\n",
        "    [i.update(title_clean=clean_sales_round_title(i[\"title\"])) for i in list_records]\n",
        "    return\n",
        "\n",
        "# Get list of sales_rounds labels to identify venture round / seed sale \n",
        "sales_rounds_titles = set(j for i in data for j in get_nested_items(i[\"profile\"][\"economics\"][\"launch\"][\"fundraising\"][\"sales_rounds\"], \"title\"))\n",
        "\n",
        "# Taken manually from list of titles in data \n",
        "private_sales_rounds_titles = [\n",
        "  'Fundraising ', \n",
        "  'Pre Seed Round', \n",
        "  'Pre-Sale SAFT', \n",
        "  'Private Presale', \n",
        "  'Private Sale', \n",
        "  'Private Sale1 ',\n",
        "  'SAFT',\n",
        "  'Seed', \n",
        "  'Seed ', \n",
        "  'Seed Funding', \n",
        "  'Seed Round', \n",
        "  'Seed Round (SAFT) ', \n",
        "  'Seed Sale', \n",
        "  'Seed Round (Crypto)', \n",
        "  'Seed Token Sale',\n",
        "  'Strategic Funding Round',\n",
        "  'Strategic Investments',\n",
        "  'Strategic Private Sale',\n",
        "  'Strategic Round',\n",
        "  'Strategic Sale',\n",
        "  'Token Pre-Sale',\n",
        "  'Token Private Round',\n",
        "  'Token Seed Round',\n",
        "  'Venture Capital',\n",
        "  'Venture Funding',\n",
        "  'Venture Round',\n",
        "]\n",
        "\n",
        "# Clean up sales round titles & add \"title_clean\" to records\n",
        "private_sales_rounds_titles_clean = set(clean_sales_round_title(i) for i in private_sales_rounds_titles)\n",
        "print(len(private_sales_rounds_titles_clean)) # Include 24 titles that point to private token sales\n",
        "_ = [clean_sales_rounds(j[\"profile\"][\"economics\"][\"launch\"][\"fundraising\"][\"sales_rounds\"]) for j in data]"
      ],
      "metadata": {
        "colab": {
          "base_uri": "https://localhost:8080/"
        },
        "id": "je74Y1P_7A4j",
        "outputId": "aa05097d-d38b-4696-ec03-f1798fd737e7"
      },
      "execution_count": 108,
      "outputs": [
        {
          "output_type": "stream",
          "name": "stdout",
          "text": [
            "24\n"
          ]
        }
      ]
    },
    {
      "cell_type": "code",
      "execution_count": 111,
      "metadata": {
        "id": "7q1KsL1royzC"
      },
      "outputs": [],
      "source": [
        "# Extract (current) market data --> metrics: token_sale_stats>sale_proceeds_usd, supply_distribution\n",
        "def get_market_data(record): \n",
        "  # Get current supply (see docs: https://messari.io/article/messari-proprietary-methods)\n",
        "  circ_supply = record[\"metrics\"][\"supply\"][\"circulating\"] # liquid supply that excludes project, foundation or founder units which have not been yet sold\n",
        "  liquid_supply = record[\"metrics\"][\"supply\"][\"liquid\"] # supply taht is visible on-chain and which is not known to have any programmatic or contractual restrictions\n",
        "\n",
        "  # Get ath price data\n",
        "  ath_price = record[\"metrics\"][\"all_time_high\"][\"price\"]\n",
        "  ath_date = record[\"metrics\"][\"all_time_high\"][\"at\"]\n",
        "\n",
        "  # Get cycle low price data\n",
        "  cl_price = record[\"metrics\"][\"cycle_low\"][\"price\"]\n",
        "  cl_date = record[\"metrics\"][\"cycle_low\"][\"at\"]\n",
        "\n",
        "  # Get current mcap\n",
        "  mcap = record[\"metrics\"][\"marketcap\"][\"current_marketcap_usd\"]\n",
        "  liquid_mcap = record[\"metrics\"][\"marketcap\"][\"liquid_marketcap_usd\"]\n",
        "\n",
        "  # Get current price data\n",
        "  current_price = record[\"metrics\"][\"market_data\"][\"price_usd\"]\n",
        "\n",
        "  # Get ROI data\n",
        "  pct_changes_keys = [\"percent_change_last_1_year\", \"percent_change_year_to_date\", \"percent_change_last_3_months\", \"percent_change_last_1_month\", \"percent_change_month_to_date\", \"percent_change_last_1_week\",]\n",
        "  pct_changes = {k:v for k,v in record[\"metrics\"][\"roi_data\"].items() if k in pct_changes_keys}\n",
        "\n",
        "  return dict(\n",
        "      current_price = current_price,\n",
        "      circ_supply = circ_supply, \n",
        "      liquid_supply = liquid_supply, \n",
        "      ath_price = ath_price, \n",
        "      ath_date = ath_date, \n",
        "      cl_price = cl_price, \n",
        "      cl_date = cl_date, \n",
        "      mcap = mcap, \n",
        "      liquid_mcap = liquid_mcap,\n",
        "      **pct_changes       \n",
        "  )\n"
      ]
    },
    {
      "cell_type": "code",
      "source": [
        "# Extract initial private fundraising data -->  profile: investors>organizations, economics>launch>fundraising\n",
        "def get_fundraise_data(record):\n",
        "  # Init\n",
        "  investors = []\n",
        "  first_private_sale_date = np.nan\n",
        "  last_private_sale_date = np.nan\n",
        "  num_tokens_private_sale = np.nan\n",
        "  tot_usd_raised_private_sale = np.nan\n",
        "  min_price_private_sale = np.nan\n",
        "  max_price_private_sale = np.nan\n",
        "  wavg_price_private_sale = np.nan \n",
        "  init_supply = np.nan\n",
        "  fdv_private_sale = np.nan\n",
        "  asset_collected = np.nan\n",
        "\n",
        "  # Get list of private investors\n",
        "  investors = [i[\"name\"] for i in record[\"profile\"][\"investors\"][\"organizations\"]]\n",
        "\n",
        "  # Filter records of private token sales\n",
        "  private_rounds = [i for i in record[\"profile\"][\"economics\"][\"launch\"][\"fundraising\"][\"sales_rounds\"] if i[\"title_clean\"] in private_sales_rounds_titles_clean]\n",
        "  if private_rounds:\n",
        "    # Get earliest & last date of private sales\n",
        "    first_private_sale_date = min([i[\"end_date\"] for i in private_rounds])\n",
        "    last_private_sale_date = max([i[\"end_date\"] for i in private_rounds])\n",
        "\n",
        "    # Get total number of tokens sold during private sales\n",
        "    num_tokens_private_sale = sum([i[\"native_tokens_allocated\"] for i in private_rounds])\n",
        "\n",
        "    # Get total USD amount raised in private sales\n",
        "    tot_usd_raised_private_sale = sum([i[\"amount_collected_in_usd\"] for i in private_rounds])\n",
        "\n",
        "    # Get last private sale token price \n",
        "    min_price_private_sale = min([i[\"equivalent_price_per_token_in_usd\"] for i in private_rounds])\n",
        "    max_price_private_sale = max([i[\"equivalent_price_per_token_in_usd\"] for i in private_rounds])\n",
        "\n",
        "    # Get weighted avg token price of private sales\n",
        "    wavg_price_private_sale = sum([i[\"amount_collected_in_usd\"]*i[\"equivalent_price_per_token_in_usd\"] for i in private_rounds]) / tot_usd_raised_private_sale\n",
        "\n",
        "    # Get total token supply\n",
        "    init_supply = record[\"profile\"][\"economics\"][\"launch\"][\"initial_distribution\"][\"initial_supply\"]\n",
        "\n",
        "    # Calc FDV based on last private sale token price\n",
        "    fdv_private_sale = max_price_private_sale * init_supply\n",
        "\n",
        "    # Safety check: currency collected in private fundraise\n",
        "    asset_collected = set(i[\"asset_collected\"] for i in private_rounds)\n",
        "\n",
        "  return dict(\n",
        "        investors = investors, \n",
        "        first_private_sale_date = first_private_sale_date, \n",
        "        last_private_sale_date = last_private_sale_date, \n",
        "        num_tokens_private_sale = num_tokens_private_sale, \n",
        "        tot_usd_raised_private_sale = tot_usd_raised_private_sale, \n",
        "        min_price_private_sale = min_price_private_sale, \n",
        "        max_price_private_sale = max_price_private_sale, \n",
        "        wavg_price_private_sale = wavg_price_private_sale, \n",
        "        init_supply = init_supply, \n",
        "        fdv_private_sale = fdv_private_sale,\n",
        "        asset_collected = asset_collected,\n",
        "    )"
      ],
      "metadata": {
        "id": "Sn1THkyl8HUi"
      },
      "execution_count": 119,
      "outputs": []
    },
    {
      "cell_type": "code",
      "source": [
        "# Get final data for all records\n",
        "# record = data[13]\n",
        "\n",
        "final_records = []\n",
        "\n",
        "for record in data: \n",
        "  final_records.append(\n",
        "      dict(\n",
        "        name = record[\"name\"], \n",
        "        link = \"https://messari.io/asset/{}\".format(record[\"slug\"]),\n",
        "        ** get_market_data(record),\n",
        "        ** get_fundraise_data(record), \n",
        "      )\n",
        "  )"
      ],
      "metadata": {
        "colab": {
          "base_uri": "https://localhost:8080/",
          "height": 357
        },
        "id": "okFQ4MeJ9y3-",
        "outputId": "df7ab4e6-4b91-4f6d-cb2d-9f19e47a4415"
      },
      "execution_count": 120,
      "outputs": [
        {
          "output_type": "error",
          "ename": "TypeError",
          "evalue": "ignored",
          "traceback": [
            "\u001b[0;31m---------------------------------------------------------------------------\u001b[0m",
            "\u001b[0;31mTypeError\u001b[0m                                 Traceback (most recent call last)",
            "\u001b[0;32m<ipython-input-120-6ec4aca858ce>\u001b[0m in \u001b[0;36m<module>\u001b[0;34m()\u001b[0m\n\u001b[1;32m     10\u001b[0m         \u001b[0mlink\u001b[0m \u001b[0;34m=\u001b[0m \u001b[0;34m\"https://messari.io/asset/{}\"\u001b[0m\u001b[0;34m.\u001b[0m\u001b[0mformat\u001b[0m\u001b[0;34m(\u001b[0m\u001b[0mrecord\u001b[0m\u001b[0;34m[\u001b[0m\u001b[0;34m\"slug\"\u001b[0m\u001b[0;34m]\u001b[0m\u001b[0;34m)\u001b[0m\u001b[0;34m,\u001b[0m\u001b[0;34m\u001b[0m\u001b[0;34m\u001b[0m\u001b[0m\n\u001b[1;32m     11\u001b[0m         \u001b[0;34m**\u001b[0m \u001b[0mget_market_data\u001b[0m\u001b[0;34m(\u001b[0m\u001b[0mrecord\u001b[0m\u001b[0;34m)\u001b[0m\u001b[0;34m,\u001b[0m\u001b[0;34m\u001b[0m\u001b[0;34m\u001b[0m\u001b[0m\n\u001b[0;32m---> 12\u001b[0;31m         \u001b[0;34m**\u001b[0m \u001b[0mget_fundraise_data\u001b[0m\u001b[0;34m(\u001b[0m\u001b[0mrecord\u001b[0m\u001b[0;34m)\u001b[0m\u001b[0;34m,\u001b[0m\u001b[0;34m\u001b[0m\u001b[0;34m\u001b[0m\u001b[0m\n\u001b[0m\u001b[1;32m     13\u001b[0m       )\n\u001b[1;32m     14\u001b[0m   )\n",
            "\u001b[0;32m<ipython-input-119-c17c86016cc7>\u001b[0m in \u001b[0;36mget_fundraise_data\u001b[0;34m(record)\u001b[0m\n\u001b[1;32m     25\u001b[0m \u001b[0;34m\u001b[0m\u001b[0m\n\u001b[1;32m     26\u001b[0m     \u001b[0;31m# Get total number of tokens sold during private sales\u001b[0m\u001b[0;34m\u001b[0m\u001b[0;34m\u001b[0m\u001b[0;34m\u001b[0m\u001b[0m\n\u001b[0;32m---> 27\u001b[0;31m     \u001b[0mnum_tokens_private_sale\u001b[0m \u001b[0;34m=\u001b[0m \u001b[0msum\u001b[0m\u001b[0;34m(\u001b[0m\u001b[0;34m[\u001b[0m\u001b[0mi\u001b[0m\u001b[0;34m[\u001b[0m\u001b[0;34m\"native_tokens_allocated\"\u001b[0m\u001b[0;34m]\u001b[0m \u001b[0;32mfor\u001b[0m \u001b[0mi\u001b[0m \u001b[0;32min\u001b[0m \u001b[0mprivate_rounds\u001b[0m\u001b[0;34m]\u001b[0m\u001b[0;34m)\u001b[0m\u001b[0;34m\u001b[0m\u001b[0;34m\u001b[0m\u001b[0m\n\u001b[0m\u001b[1;32m     28\u001b[0m \u001b[0;34m\u001b[0m\u001b[0m\n\u001b[1;32m     29\u001b[0m     \u001b[0;31m# Get total USD amount raised in private sales\u001b[0m\u001b[0;34m\u001b[0m\u001b[0;34m\u001b[0m\u001b[0;34m\u001b[0m\u001b[0m\n",
            "\u001b[0;31mTypeError\u001b[0m: unsupported operand type(s) for +: 'int' and 'NoneType'"
          ]
        }
      ]
    },
    {
      "cell_type": "code",
      "source": [
        ""
      ],
      "metadata": {
        "id": "77A6-Orn9y9L"
      },
      "execution_count": null,
      "outputs": []
    },
    {
      "cell_type": "code",
      "source": [
        ""
      ],
      "metadata": {
        "id": "OsbWEivE9zA1"
      },
      "execution_count": null,
      "outputs": []
    },
    {
      "cell_type": "code",
      "source": [
        "data[24][\"name\"]\n",
        "# [i[\"name\"] for i in data[24][\"profile\"][\"investors\"][\"organizations\"]]\n",
        "[i for i in data[24][\"profile\"][\"economics\"][\"launch\"][\"fundraising\"][\"sales_rounds\"]]"
      ],
      "metadata": {
        "id": "zrgjySzMOCg3"
      },
      "execution_count": null,
      "outputs": []
    },
    {
      "cell_type": "code",
      "source": [
        ""
      ],
      "metadata": {
        "id": "SO4qYZY0PufM"
      },
      "execution_count": null,
      "outputs": []
    },
    {
      "cell_type": "code",
      "source": [
        ""
      ],
      "metadata": {
        "id": "mWXa0R2lPup0"
      },
      "execution_count": null,
      "outputs": []
    },
    {
      "cell_type": "code",
      "execution_count": null,
      "metadata": {
        "id": "d9Vc2DbAX4v5"
      },
      "outputs": [],
      "source": [
        "url = \"https://data.messari.io/api/v2/assets?with-profiles\"\n",
        "page = 2\n",
        "assets_bytes = urllib.request.urlopen(url + \"?page={}\".format(str(page))).read()\n",
        "assets_dict = json.loads(assets_bytes.decode('utf-8'))"
      ]
    },
    {
      "cell_type": "code",
      "execution_count": null,
      "metadata": {
        "colab": {
          "base_uri": "https://localhost:8080/"
        },
        "id": "v-QCgPhEYEoI",
        "outputId": "d9a15dd1-1156-4c6c-fe6a-4600912c91b1"
      },
      "outputs": [
        {
          "data": {
            "text/plain": [
              "2"
            ]
          },
          "execution_count": 28,
          "metadata": {},
          "output_type": "execute_result"
        }
      ],
      "source": [
        "len(assets_dict)\n",
        "len(assets_dict[\"data\"])"
      ]
    },
    {
      "cell_type": "code",
      "execution_count": null,
      "metadata": {
        "id": "bPOh80SzaAgu"
      },
      "outputs": [],
      "source": [
        ""
      ]
    }
  ],
  "metadata": {
    "colab": {
      "name": "track_vc_tokens.ipynb",
      "provenance": [],
      "authorship_tag": "ABX9TyPXZJ3kaJoE+srpSxUXR9UF",
      "include_colab_link": true
    },
    "kernelspec": {
      "display_name": "Python 3",
      "name": "python3"
    },
    "language_info": {
      "name": "python"
    }
  },
  "nbformat": 4,
  "nbformat_minor": 0
}