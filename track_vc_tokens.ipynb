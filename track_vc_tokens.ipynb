{
  "cells": [
    {
      "cell_type": "markdown",
      "metadata": {
        "id": "view-in-github",
        "colab_type": "text"
      },
      "source": [
        "<a href=\"https://colab.research.google.com/github/Friedrichz/crypto_tooling/blob/main/track_vc_tokens.ipynb\" target=\"_parent\"><img src=\"https://colab.research.google.com/assets/colab-badge.svg\" alt=\"Open In Colab\"/></a>"
      ]
    },
    {
      "cell_type": "code",
      "execution_count": 2,
      "metadata": {
        "colab": {
          "base_uri": "https://localhost:8080/"
        },
        "id": "BRs8iI2cX2ZA",
        "outputId": "4b4f755f-8672-4c1b-b08f-d72f988dd6d6"
      },
      "outputs": [
        {
          "output_type": "stream",
          "name": "stdout",
          "text": [
            "Looking in indexes: https://pypi.org/simple, https://us-python.pkg.dev/colab-wheels/public/simple/\n",
            "Collecting messari\n",
            "  Downloading messari-1.0.0-py3-none-any.whl (9.0 kB)\n",
            "Requirement already satisfied: requests>=2.18.4 in /usr/local/lib/python3.7/dist-packages (from messari) (2.23.0)\n",
            "Requirement already satisfied: idna<3,>=2.5 in /usr/local/lib/python3.7/dist-packages (from requests>=2.18.4->messari) (2.10)\n",
            "Requirement already satisfied: urllib3!=1.25.0,!=1.25.1,<1.26,>=1.21.1 in /usr/local/lib/python3.7/dist-packages (from requests>=2.18.4->messari) (1.24.3)\n",
            "Requirement already satisfied: chardet<4,>=3.0.2 in /usr/local/lib/python3.7/dist-packages (from requests>=2.18.4->messari) (3.0.4)\n",
            "Requirement already satisfied: certifi>=2017.4.17 in /usr/local/lib/python3.7/dist-packages (from requests>=2.18.4->messari) (2022.6.15)\n",
            "Installing collected packages: messari\n",
            "Successfully installed messari-1.0.0\n"
          ]
        }
      ],
      "source": [
        "!pip install messari"
      ]
    },
    {
      "cell_type": "code",
      "execution_count": 3,
      "metadata": {
        "id": "-XI2ylhUopaa"
      },
      "outputs": [],
      "source": [
        "from messari.messari import Messari\n",
        "import pandas as pd\n",
        "\n",
        "messari_api_key = \"88bbfa31-1b0c-442b-b748-cc13ed2cab1a\"\n",
        "messari = Messari(messari_api_key)"
      ]
    },
    {
      "cell_type": "code",
      "execution_count": 4,
      "metadata": {
        "id": "sJo-T8ACpbid"
      },
      "outputs": [],
      "source": [
        "li_dic = [] \n",
        "for i in range(1, 5, 1):\n",
        "    data = messari.get_all_assets(page=i, limit=500, to_dataframe=True)\n",
        "    li_dic.append(data)"
      ]
    },
    {
      "cell_type": "code",
      "execution_count": 5,
      "metadata": {
        "colab": {
          "base_uri": "https://localhost:8080/"
        },
        "id": "lpEJwxO1uNS6",
        "outputId": "608070ad-1664-4b37-9142-a07028b70150"
      },
      "outputs": [
        {
          "output_type": "execute_result",
          "data": {
            "text/plain": [
              "500"
            ]
          },
          "metadata": {},
          "execution_count": 5
        }
      ],
      "source": [
        "data = li_dic[0]['data']\n",
        "len(data)"
      ]
    },
    {
      "cell_type": "code",
      "execution_count": 67,
      "metadata": {
        "id": "7q1KsL1royzC",
        "colab": {
          "base_uri": "https://localhost:8080/"
        },
        "outputId": "4372f25b-37f9-476d-98d2-a52ce4258238"
      },
      "outputs": [
        {
          "output_type": "execute_result",
          "data": {
            "text/plain": [
              "dict_keys(['market_data', 'marketcap', 'supply', 'blockchain_stats_24_hours', 'market_data_liquidity', 'all_time_high', 'cycle_low', 'token_sale_stats', 'mining_stats', 'developer_activity', 'roi_data', 'roi_by_year', 'risk_metrics', 'misc_data', 'reddit', 'on_chain_data', 'exchange_flows', 'miner_flows', 'supply_activity', 'supply_distribution', 'alert_messages'])"
            ]
          },
          "metadata": {},
          "execution_count": 67
        }
      ],
      "source": [
        "record = data[13]\n",
        "# Extract (current) market data --> metrics: token_sale_stats>sale_proceeds_usd, supply_distribution\n",
        "record[\"metrics\"].keys()#[\"sale_proceeds_usd\"]"
      ]
    },
    {
      "cell_type": "code",
      "source": [
        "# Extract initial private fundraising data --> profile: investors>organizations, economics>launch>fundraising\n",
        "\n",
        "def get_nested_items(list_records, attr): \n",
        "  if list_records is None:\n",
        "    return []\n",
        "  else: \n",
        "    return [i[attr] for i in list_records]\n",
        "\n",
        "def clean_sales_round_title(title): \n",
        "  if title is None: pass\n",
        "  else:\n",
        "    # Remove digits\n",
        "    title = ''.join([i for i in title if not i.isdigit()]) \n",
        "    # Lowercase & strip trailing/leading spaces\n",
        "    title = title.lower().strip()\n",
        "    return title\n",
        "\n",
        "def clean_sales_rounds(list_records): \n",
        "  if list_records is None:\n",
        "    pass\n",
        "  else:\n",
        "    [i.update(title_clean=clean_sales_round_title(i[\"title\"])) for i in list_records]\n",
        "    return\n",
        "\n",
        "# Get list of sales_rounds labels to identify venture round / seed sale \n",
        "sales_rounds_titles = set(j for i in data for j in get_nested_items(i[\"profile\"][\"economics\"][\"launch\"][\"fundraising\"][\"sales_rounds\"], \"title\"))\n",
        "\n",
        "# Taken manually from list of titles in data \n",
        "early_sales_rounds = [\n",
        "  'Fundraising ', \n",
        "  'Pre Seed Round', \n",
        "  'Pre-Sale SAFT', \n",
        "  'Private Presale', \n",
        "  'Private Sale', \n",
        "  'Private Sale1 ',\n",
        "  'SAFT',\n",
        "  'Seed', \n",
        "  'Seed ', \n",
        "  'Seed Funding', \n",
        "  'Seed Round', \n",
        "  'Seed Round (SAFT) ', \n",
        "  'Seed Sale', \n",
        "  'Seed Round (Crypto)', \n",
        "  'Seed Token Sale',\n",
        "  'Strategic Funding Round',\n",
        "  'Strategic Investments',\n",
        "  'Strategic Private Sale',\n",
        "  'Strategic Round',\n",
        "  'Strategic Sale',\n",
        "  'Token Pre-Sale',\n",
        "  'Token Private Round',\n",
        "  'Token Seed Round',\n",
        "  'Venture Capital',\n",
        "  'Venture Funding',\n",
        "  'Venture Round',\n",
        "]\n",
        "\n",
        "# Clean up sales round titles & add \"title_clean\" to records\n",
        "early_sales_rounds_clean = set(clean_sales_round_title(i) for i in early_sales_rounds)\n",
        "print(len(early_sales_rounds_clean)) # Include 24 titles that point to private token sales\n",
        "_ = [clean_sales_rounds(j[\"profile\"][\"economics\"][\"launch\"][\"fundraising\"][\"sales_rounds\"]) for j in data]\n",
        "\n",
        "# Get list of private investors\n",
        "investors = [i[\"name\"] for i in record[\"profile\"][\"investors\"][\"organizations\"]]\n",
        "\n",
        "# Filter records of private token sales\n",
        "private_rounds = [i for i in record[\"profile\"][\"economics\"][\"launch\"][\"fundraising\"][\"sales_rounds\"] if i[\"title_clean\"] in early_sales_rounds_clean]\n",
        "\n",
        "# Get earliest & last date of private sales\n",
        "first_private_sale_date = min([i[\"end_date\"] for i in private_rounds])\n",
        "last_private_sale_date = max([i[\"end_date\"] for i in private_rounds])\n",
        "\n",
        "# Get total number of tokens sold during private sales\n",
        "num_tokens_private_sale = sum([i[\"native_tokens_allocated\"] for i in private_rounds])\n",
        "\n",
        "# Get total USD amount raised in private sales\n",
        "tot_usd_raised_private_sale = sum([i[\"amount_collected_in_usd\"] for i in private_rounds])\n",
        "\n",
        "# Get last private sale token price \n",
        "min_price_private_sale = min([i[\"equivalent_price_per_token_in_usd\"] for i in private_rounds])\n",
        "max_price_private_sale = max([i[\"equivalent_price_per_token_in_usd\"] for i in private_rounds])\n",
        "\n",
        "# Get weighted avg token price of private sales\n",
        "wavg_price_private_sale = sum([i[\"amount_collected_in_usd\"]*i[\"equivalent_price_per_token_in_usd\"] for i in private_rounds]) / tot_usd_raised_private_sale\n",
        "\n",
        "# Get total token supply\n",
        "tot_supply = record[\"profile\"][\"economics\"][\"launch\"][\"initial_distribution\"][\"initial_supply\"]\n",
        "\n",
        "# Calc FDV based on last private sale token price\n",
        "fdv_private_sale = max_price_private_sale * tot_supply\n",
        "\n",
        "# Safety check: currency collected in private fundraise\n",
        "asset_collected = set(i[\"asset_collected\"] for i in private_rounds)\n",
        "\n",
        "\n"
      ],
      "metadata": {
        "colab": {
          "base_uri": "https://localhost:8080/"
        },
        "id": "Sn1THkyl8HUi",
        "outputId": "d39fcdd6-27ca-41fe-a3eb-0190334c5f7f"
      },
      "execution_count": 61,
      "outputs": [
        {
          "output_type": "stream",
          "name": "stdout",
          "text": [
            "24\n"
          ]
        }
      ]
    },
    {
      "cell_type": "code",
      "source": [
        "print(first_private_sale_date, last_private_sale_date, num_tokens_private_sale, tot_usd_raised_private_sale, min_price_private_sale, max_price_private_sale, wavg_price_private_sale, tot_supply, fdv_private_sale)"
      ],
      "metadata": {
        "colab": {
          "base_uri": "https://localhost:8080/"
        },
        "id": "xpK0VoAddQyA",
        "outputId": "0b626b3c-29e1-4a00-d3b8-ed1ea14a59d3"
      },
      "execution_count": 62,
      "outputs": [
        {
          "output_type": "stream",
          "name": "stdout",
          "text": [
            "2019-02-01T05:00:00Z 2019-02-01T05:00:00Z 18000000 5940000 0.33 0.33 0.33 360000000 118800000.0\n"
          ]
        }
      ]
    },
    {
      "cell_type": "code",
      "source": [
        "360000000* 0.33"
      ],
      "metadata": {
        "colab": {
          "base_uri": "https://localhost:8080/"
        },
        "id": "RJ_qjO8ldQ04",
        "outputId": "41eee427-24bf-48e3-f7fe-21a12713a88d"
      },
      "execution_count": 63,
      "outputs": [
        {
          "output_type": "execute_result",
          "data": {
            "text/plain": [
              "118800000.0"
            ]
          },
          "metadata": {},
          "execution_count": 63
        }
      ]
    },
    {
      "cell_type": "code",
      "source": [
        "data[24][\"name\"]\n",
        "# [i[\"name\"] for i in data[24][\"profile\"][\"investors\"][\"organizations\"]]\n",
        "[i for i in data[24][\"profile\"][\"economics\"][\"launch\"][\"fundraising\"][\"sales_rounds\"]]"
      ],
      "metadata": {
        "colab": {
          "base_uri": "https://localhost:8080/"
        },
        "id": "zrgjySzMOCg3",
        "outputId": "42a394dc-695e-4e72-91bb-dd24e6a04392"
      },
      "execution_count": 46,
      "outputs": [
        {
          "output_type": "execute_result",
          "data": {
            "text/plain": [
              "[{'amount_collected_in_asset': None,\n",
              "  'amount_collected_in_usd': 810000,\n",
              "  'asset_collected': 'USD',\n",
              "  'details': 'This is the first private sale that NEAR protocol conducted in Q3 2017. NEAR protocol offered 21.6 million NEAR at the rate of $0.0375 per token, raising $810,000.\\n\\nNEAR [announced](https://www.businesswire.com/news/home/20190710005723/en/NEAR-Protocol-Developers-Raise-12.1M-Round-led-by-Metastable-and-Accomplice-to-Bridge-the-Adoption-Gap-for-Decentralized-Applications) that this raise was a part of its initial venture round, which brought in over $12 million. The team disclosed these details in July 2019.',\n",
              "  'end_date': '2017-09-30T00:00:00Z',\n",
              "  'equivalent_price_per_token_in_usd': 0.0375,\n",
              "  'is_kyc_required': None,\n",
              "  'native_tokens_allocated': 21600000,\n",
              "  'price_per_token_in_asset': None,\n",
              "  'restricted_jurisdictions': None,\n",
              "  'start_date': '2017-06-01T00:00:00Z',\n",
              "  'title': 'Private Sale1 ',\n",
              "  'title_clean': 'private sale',\n",
              "  'type': 'Token Sale'},\n",
              " {'amount_collected_in_asset': None,\n",
              "  'amount_collected_in_usd': 2880000,\n",
              "  'asset_collected': 'USD',\n",
              "  'details': 'This is the second private sale that NEAR protocol conducted in Q3 2018. NEAR protocol offered 57.6 million NEAR at the rate of $0.05 per token, raising $2,880,000.\\n\\nNEAR [announced](https://www.businesswire.com/news/home/20190710005723/en/NEAR-Protocol-Developers-Raise-12.1M-Round-led-by-Metastable-and-Accomplice-to-Bridge-the-Adoption-Gap-for-Decentralized-Applications) that this raise was a part of its initial venture round, which brought in over $12 million. The team disclosed these details in July 2019.',\n",
              "  'end_date': '2018-09-30T00:00:00Z',\n",
              "  'equivalent_price_per_token_in_usd': 0.05,\n",
              "  'is_kyc_required': None,\n",
              "  'native_tokens_allocated': 57600000,\n",
              "  'price_per_token_in_asset': None,\n",
              "  'restricted_jurisdictions': None,\n",
              "  'start_date': '2018-06-01T00:00:00Z',\n",
              "  'title': 'Private Sale 2',\n",
              "  'title_clean': 'private sale',\n",
              "  'type': 'Token Sale'},\n",
              " {'amount_collected_in_asset': None,\n",
              "  'amount_collected_in_usd': 8480000,\n",
              "  'asset_collected': 'USD',\n",
              "  'details': 'This is the third private sale that NEAR protocol conducted in Q1 2019. NEAR protocol offered around 70.66 million NEAR at the rate of $0.12 per token, raising $8,480,000.\\n\\nNEAR [announced](https://www.businesswire.com/news/home/20190710005723/en/NEAR-Protocol-Developers-Raise-12.1M-Round-led-by-Metastable-and-Accomplice-to-Bridge-the-Adoption-Gap-for-Decentralized-Applications) that this raise was a part of its initial venture round, which brought in over $12 million. The team disclosed these details in July 2019.',\n",
              "  'end_date': '2019-03-30T00:00:00Z',\n",
              "  'equivalent_price_per_token_in_usd': 0.12,\n",
              "  'is_kyc_required': None,\n",
              "  'native_tokens_allocated': 70666666,\n",
              "  'price_per_token_in_asset': None,\n",
              "  'restricted_jurisdictions': None,\n",
              "  'start_date': '2019-01-01T00:00:00Z',\n",
              "  'title': 'Private Sale 3',\n",
              "  'title_clean': 'private sale',\n",
              "  'type': 'Token Sale'},\n",
              " {'amount_collected_in_asset': None,\n",
              "  'amount_collected_in_usd': 375000,\n",
              "  'asset_collected': 'USD',\n",
              "  'details': 'This is the fourth private sale that NEAR protocol conducted in Q2 2019. NEAR protocol offered around 2.5 million NEAR at the rate of $0.15 per token, raising $375,000.\\n\\nNEAR [announced](https://www.businesswire.com/news/home/20190710005723/en/NEAR-Protocol-Developers-Raise-12.1M-Round-led-by-Metastable-and-Accomplice-to-Bridge-the-Adoption-Gap-for-Decentralized-Applications) that this raise was a part of its initial venture round, which brought in over $12 million. The team disclosed these details in July 2019.',\n",
              "  'end_date': '2019-06-30T00:00:00Z',\n",
              "  'equivalent_price_per_token_in_usd': 0.15,\n",
              "  'is_kyc_required': None,\n",
              "  'native_tokens_allocated': 2500000,\n",
              "  'price_per_token_in_asset': None,\n",
              "  'restricted_jurisdictions': None,\n",
              "  'start_date': '2019-04-01T00:00:00Z',\n",
              "  'title': 'Private Sale 4',\n",
              "  'title_clean': 'private sale',\n",
              "  'type': 'Token Sale'},\n",
              " {'amount_collected_in_asset': None,\n",
              "  'amount_collected_in_usd': 21596505,\n",
              "  'asset_collected': 'USD',\n",
              "  'details': 'The NEAR Foundation closed its Series A in Q1 2020, which brought in over $21 million. The round featured three different purchase prices that each came with a different vesting schedule. The sale options were as follows:\\n- Option 1: $0.25 with a 36-month vesting schedule (raised $18,933,487)\\n- Option 2: $0.29 with a 24-month vesting schedule (raised $659,863)\\n- Option 3: $0.32 with a 12-month vesting schedule (raised $2,003,155)',\n",
              "  'end_date': '2020-03-31T00:00:00Z',\n",
              "  'equivalent_price_per_token_in_usd': 0.26,\n",
              "  'is_kyc_required': None,\n",
              "  'native_tokens_allocated': 84269197,\n",
              "  'price_per_token_in_asset': None,\n",
              "  'restricted_jurisdictions': None,\n",
              "  'start_date': '2019-10-01T00:00:00Z',\n",
              "  'title': 'Series A',\n",
              "  'title_clean': 'series a',\n",
              "  'type': 'Token Sale'},\n",
              " {'amount_collected_in_asset': None,\n",
              "  'amount_collected_in_usd': None,\n",
              "  'asset_collected': 'USD',\n",
              "  'details': 'The NEAR Foundation held a public token sale in August 2020 that distributed a little over 120 million NEAR tokens, \\n- Option 1: $0.40, no vesting schedule (raised $10,000,000)\\n- Option 2: $0.34 with a 12-month vesting schedule \\n- Option 3: $0.29 with a 24-month vesting schedule \\n\\nThe original public sale ran from Aug. 11-13, 2020, but there were some technical issues during the sale that prevent some people from participating. In response, the NEAR Foundation held a [second (but limited) token sale](https://near.org/blog/the-near-token-sale-and-unforkable-community/) from Aug. 18-25, 2020, to accommodate those that were unable to purchase NEAR the first time around due to technical difficulties.',\n",
              "  'end_date': '2020-08-13T00:00:00Z',\n",
              "  'equivalent_price_per_token_in_usd': None,\n",
              "  'is_kyc_required': True,\n",
              "  'native_tokens_allocated': 120000000,\n",
              "  'price_per_token_in_asset': None,\n",
              "  'restricted_jurisdictions': ['United States'],\n",
              "  'start_date': '2020-08-11T00:00:00Z',\n",
              "  'title': 'Community Sale',\n",
              "  'title_clean': 'community sale',\n",
              "  'type': 'Token Sale'}]"
            ]
          },
          "metadata": {},
          "execution_count": 46
        }
      ]
    },
    {
      "cell_type": "code",
      "source": [
        "(2500000*0.15+70666666*0.12+ 57600000*0.05+21600000*0.0375) / (2500000+70666666+57600000+21600000)"
      ],
      "metadata": {
        "colab": {
          "base_uri": "https://localhost:8080/"
        },
        "id": "0Biria07Pt_e",
        "outputId": "ef0ed112-a59d-451d-e86d-6982682a14e7"
      },
      "execution_count": 32,
      "outputs": [
        {
          "output_type": "execute_result",
          "data": {
            "text/plain": [
              "0.08233428117407254"
            ]
          },
          "metadata": {},
          "execution_count": 32
        }
      ]
    },
    {
      "cell_type": "code",
      "source": [
        ""
      ],
      "metadata": {
        "id": "SO4qYZY0PufM"
      },
      "execution_count": null,
      "outputs": []
    },
    {
      "cell_type": "code",
      "source": [
        ""
      ],
      "metadata": {
        "id": "mWXa0R2lPup0"
      },
      "execution_count": null,
      "outputs": []
    },
    {
      "cell_type": "code",
      "execution_count": null,
      "metadata": {
        "id": "d9Vc2DbAX4v5"
      },
      "outputs": [],
      "source": [
        "url = \"https://data.messari.io/api/v2/assets?with-profiles\"\n",
        "page = 2\n",
        "assets_bytes = urllib.request.urlopen(url + \"?page={}\".format(str(page))).read()\n",
        "assets_dict = json.loads(assets_bytes.decode('utf-8'))"
      ]
    },
    {
      "cell_type": "code",
      "execution_count": null,
      "metadata": {
        "colab": {
          "base_uri": "https://localhost:8080/"
        },
        "id": "v-QCgPhEYEoI",
        "outputId": "d9a15dd1-1156-4c6c-fe6a-4600912c91b1"
      },
      "outputs": [
        {
          "data": {
            "text/plain": [
              "2"
            ]
          },
          "execution_count": 28,
          "metadata": {},
          "output_type": "execute_result"
        }
      ],
      "source": [
        "len(assets_dict)\n",
        "len(assets_dict[\"data\"])"
      ]
    },
    {
      "cell_type": "code",
      "execution_count": null,
      "metadata": {
        "id": "bPOh80SzaAgu"
      },
      "outputs": [],
      "source": [
        ""
      ]
    }
  ],
  "metadata": {
    "colab": {
      "name": "track_vc_tokens.ipynb",
      "provenance": [],
      "authorship_tag": "ABX9TyNbzxfW/8Qu2OlnlBw1p4hh",
      "include_colab_link": true
    },
    "kernelspec": {
      "display_name": "Python 3",
      "name": "python3"
    },
    "language_info": {
      "name": "python"
    }
  },
  "nbformat": 4,
  "nbformat_minor": 0
}